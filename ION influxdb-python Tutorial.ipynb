{
 "cells": [
  {
   "cell_type": "markdown",
   "metadata": {},
   "source": [
    "To query data in InfluxDB : [command line interface](https://docs.influxdata.com/influxdb/v1.7/tools/shell/) or [client libraries](https://docs.influxdata.com/influxdb/v1.7/tools/api_client_libraries/).\n",
    "\n",
    "This notebook is a tutorial for `influxdb-python`, one of the client libraries to query InfluxDB.\n",
    "- GitHub https://github.com/influxdata/influxdb-python\n",
    "\n",
    "- Tutorials https://influxdb-python.readthedocs.io/en/latest/examples.html\n",
    "\n",
    "- Documentation https://influxdb-python.readthedocs.io/en/latest/\n",
    "\n",
    "- API Documentation https://influxdb-python.readthedocs.io/en/latest/api-documentation.html#api-documentation\n"
   ]
  },
  {
   "cell_type": "markdown",
   "metadata": {},
   "source": [
    "```python\n",
    "#Dependencies\n",
    "#HTTP library for human beings\n",
    "! pip install requests\n",
    "#writing from and reading to DataFrames\n",
    "! pip install pandas\n",
    "#to create and manage the documentation\n",
    "! pip install Sphinx \n",
    "#to auto-discover tests\n",
    "! pip install nose\n",
    "#to mock tests\n",
    "! pip install mock\n",
    "\n",
    "#to install, upgrade or uninstall influxdb-pytho\n",
    "! pip install influxdb\n",
    "#! pip install --upgrade influxdb\n",
    "#! pip uninstall influxdb\n",
    "```"
   ]
  },
  {
   "cell_type": "code",
   "execution_count": 1,
   "metadata": {},
   "outputs": [],
   "source": [
    "# -----------------------------------------------\n",
    "# Querying InfluxDB ION database and performing analysis in pandas DataFrame\n",
    "# Author: Jiachen Wei, UBC Urban Data Lab\n",
    "# Date: 2019-12-19\n",
    "# -----------------------------------------------\n",
    "import pandas as pd\n",
    "from influxdb import DataFrameClient #to write pandas DataFrames into influx, or to read data into a pandas DataFrame\n",
    "from datetime import timezone, datetime\n",
    "import pytz\n",
    "import matplotlib.pyplot as plt\n",
    "%matplotlib inline"
   ]
  },
  {
   "cell_type": "code",
   "execution_count": 2,
   "metadata": {},
   "outputs": [
    {
     "name": "stdout",
     "output_type": "stream",
     "text": [
      "Measurements in InfluxDB (separated by commas):\n",
      "Note that a building might have multiple data streams (multiple measurements in InfluxDB)\n"
     ]
    },
    {
     "data": {
      "text/html": [
       "<style  type=\"text/css\" >\n",
       "    #T_88c2790a_22b8_11ea_8e0c_6c2b59d16eearow0_col0 {\n",
       "            text-align:  left;\n",
       "        }    #T_88c2790a_22b8_11ea_8e0c_6c2b59d16eearow1_col0 {\n",
       "            text-align:  left;\n",
       "        }    #T_88c2790a_22b8_11ea_8e0c_6c2b59d16eearow2_col0 {\n",
       "            text-align:  left;\n",
       "        }    #T_88c2790a_22b8_11ea_8e0c_6c2b59d16eearow3_col0 {\n",
       "            text-align:  left;\n",
       "        }    #T_88c2790a_22b8_11ea_8e0c_6c2b59d16eearow4_col0 {\n",
       "            text-align:  left;\n",
       "        }    #T_88c2790a_22b8_11ea_8e0c_6c2b59d16eearow5_col0 {\n",
       "            text-align:  left;\n",
       "        }    #T_88c2790a_22b8_11ea_8e0c_6c2b59d16eearow6_col0 {\n",
       "            text-align:  left;\n",
       "        }    #T_88c2790a_22b8_11ea_8e0c_6c2b59d16eearow7_col0 {\n",
       "            text-align:  left;\n",
       "        }    #T_88c2790a_22b8_11ea_8e0c_6c2b59d16eearow8_col0 {\n",
       "            text-align:  left;\n",
       "        }    #T_88c2790a_22b8_11ea_8e0c_6c2b59d16eearow9_col0 {\n",
       "            text-align:  left;\n",
       "        }    #T_88c2790a_22b8_11ea_8e0c_6c2b59d16eearow10_col0 {\n",
       "            text-align:  left;\n",
       "        }    #T_88c2790a_22b8_11ea_8e0c_6c2b59d16eearow11_col0 {\n",
       "            text-align:  left;\n",
       "        }    #T_88c2790a_22b8_11ea_8e0c_6c2b59d16eearow12_col0 {\n",
       "            text-align:  left;\n",
       "        }    #T_88c2790a_22b8_11ea_8e0c_6c2b59d16eearow13_col0 {\n",
       "            text-align:  left;\n",
       "        }    #T_88c2790a_22b8_11ea_8e0c_6c2b59d16eearow14_col0 {\n",
       "            text-align:  left;\n",
       "        }    #T_88c2790a_22b8_11ea_8e0c_6c2b59d16eearow15_col0 {\n",
       "            text-align:  left;\n",
       "        }    #T_88c2790a_22b8_11ea_8e0c_6c2b59d16eearow16_col0 {\n",
       "            text-align:  left;\n",
       "        }    #T_88c2790a_22b8_11ea_8e0c_6c2b59d16eearow17_col0 {\n",
       "            text-align:  left;\n",
       "        }    #T_88c2790a_22b8_11ea_8e0c_6c2b59d16eearow18_col0 {\n",
       "            text-align:  left;\n",
       "        }    #T_88c2790a_22b8_11ea_8e0c_6c2b59d16eearow19_col0 {\n",
       "            text-align:  left;\n",
       "        }    #T_88c2790a_22b8_11ea_8e0c_6c2b59d16eearow20_col0 {\n",
       "            text-align:  left;\n",
       "        }</style><table id=\"T_88c2790a_22b8_11ea_8e0c_6c2b59d16eea\" ><thead>    <tr>        <th class=\"blank level0\" ></th>        <th class=\"col_heading level0 col0\" >measurement</th>    </tr>    <tr>        <th class=\"index_name level0\" >letter</th>        <th class=\"blank\" ></th>    </tr></thead><tbody>\n",
       "                <tr>\n",
       "                        <th id=\"T_88c2790a_22b8_11ea_8e0c_6c2b59d16eealevel0_row0\" class=\"row_heading level0 row0\" >A</th>\n",
       "                        <td id=\"T_88c2790a_22b8_11ea_8e0c_6c2b59d16eearow0_col0\" class=\"data row0 col0\" >AERL_316,Allard_482,Alumni_797,Angus_023,Anthro_Socio_048,Aquatic_Centre_213_Elec,Asian_046_1,Asian_046_2</td>\n",
       "            </tr>\n",
       "            <tr>\n",
       "                        <th id=\"T_88c2790a_22b8_11ea_8e0c_6c2b59d16eealevel0_row1\" class=\"row_heading level0 row1\" >B</th>\n",
       "                        <td id=\"T_88c2790a_22b8_11ea_8e0c_6c2b59d16eearow1_col0\" class=\"data row1 col0\" >BRC_461,Baseball_862,Beaty_314,Bio_South_068,Bio_West_065,Bookstore_NCE_081,Brimacombe_020_1,Brimacombe_020_2,Brock_Hall_112,Buchanan_ABC_121,Buchanan_DE_122,Buchanan_Twr_120</td>\n",
       "            </tr>\n",
       "            <tr>\n",
       "                        <th id=\"T_88c2790a_22b8_11ea_8e0c_6c2b59d16eealevel0_row2\" class=\"row_heading level0 row2\" >C</th>\n",
       "                        <td id=\"T_88c2790a_22b8_11ea_8e0c_6c2b59d16eearow2_col0\" class=\"data row2 col0\" >CBH_465,CCM_057,CEME_306,CEME_Labs_307,CIRS_633,Chan_130_1,Chan_130_2,Chem_bio_eng_300,Chem_centre_132,Chem_east_144,Chem_north_136,Chem_phys_447,Chem_south_148,Choi_478,Cunningham_624</td>\n",
       "            </tr>\n",
       "            <tr>\n",
       "                        <th id=\"T_88c2790a_22b8_11ea_8e0c_6c2b59d16eealevel0_row3\" class=\"row_heading level0 row3\" >D</th>\n",
       "                        <td id=\"T_88c2790a_22b8_11ea_8e0c_6c2b59d16eearow3_col0\" class=\"data row3 col0\" >David_Lam_490,Doug_Mitchell_868</td>\n",
       "            </tr>\n",
       "            <tr>\n",
       "                        <th id=\"T_88c2790a_22b8_11ea_8e0c_6c2b59d16eealevel0_row4\" class=\"row_heading level0 row4\" >E</th>\n",
       "                        <td id=\"T_88c2790a_22b8_11ea_8e0c_6c2b59d16eearow4_col0\" class=\"data row4 col0\" >EDC_WWW_301,EOS_Main_402,ESB_225,Exchange_773_Elec</td>\n",
       "            </tr>\n",
       "            <tr>\n",
       "                        <th id=\"T_88c2790a_22b8_11ea_8e0c_6c2b59d16eealevel0_row5\" class=\"row_heading level0 row5\" >F</th>\n",
       "                        <td id=\"T_88c2790a_22b8_11ea_8e0c_6c2b59d16eearow5_col0\" class=\"data row5 col0\" >FNH_449,First_Nations_337,Forest_353_1,Forest_353_2,Forward_562,Freddy_wood_376,Freidman_523</td>\n",
       "            </tr>\n",
       "            <tr>\n",
       "                        <th id=\"T_88c2790a_22b8_11ea_8e0c_6c2b59d16eealevel0_row6\" class=\"row_heading level0 row6\" >G</th>\n",
       "                        <td id=\"T_88c2790a_22b8_11ea_8e0c_6c2b59d16eearow6_col0\" class=\"data row6 col0\" >Geography_401</td>\n",
       "            </tr>\n",
       "            <tr>\n",
       "                        <th id=\"T_88c2790a_22b8_11ea_8e0c_6c2b59d16eealevel0_row7\" class=\"row_heading level0 row7\" >H</th>\n",
       "                        <td id=\"T_88c2790a_22b8_11ea_8e0c_6c2b59d16eearow7_col0\" class=\"data row7 col0\" >Hennings_652</td>\n",
       "            </tr>\n",
       "            <tr>\n",
       "                        <th id=\"T_88c2790a_22b8_11ea_8e0c_6c2b59d16eealevel0_row8\" class=\"row_heading level0 row8\" >I</th>\n",
       "                        <td id=\"T_88c2790a_22b8_11ea_8e0c_6c2b59d16eearow8_col0\" class=\"data row8 col0\" >ICICS_165,ICICS_Addn_166,IKBLC_516,IRC_473</td>\n",
       "            </tr>\n",
       "            <tr>\n",
       "                        <th id=\"T_88c2790a_22b8_11ea_8e0c_6c2b59d16eealevel0_row9\" class=\"row_heading level0 row9\" >J</th>\n",
       "                        <td id=\"T_88c2790a_22b8_11ea_8e0c_6c2b59d16eearow9_col0\" class=\"data row9 col0\" >Jack_bell_750</td>\n",
       "            </tr>\n",
       "            <tr>\n",
       "                        <th id=\"T_88c2790a_22b8_11ea_8e0c_6c2b59d16eealevel0_row10\" class=\"row_heading level0 row10\" >K</th>\n",
       "                        <td id=\"T_88c2790a_22b8_11ea_8e0c_6c2b59d16eearow10_col0\" class=\"data row10 col0\" >Kaiser_313,Kenny_732,Klinck_308_1,Klinck_308_2,Koerner_Lib_515</td>\n",
       "            </tr>\n",
       "            <tr>\n",
       "                        <th id=\"T_88c2790a_22b8_11ea_8e0c_6c2b59d16eealevel0_row11\" class=\"row_heading level0 row11\" >L</th>\n",
       "                        <td id=\"T_88c2790a_22b8_11ea_8e0c_6c2b59d16eearow11_col0\" class=\"data row11 col0\" >LMRS_022,Lasserre_028,Life_529_A,Life_529_B,Life_529_C,Liu_496</td>\n",
       "            </tr>\n",
       "            <tr>\n",
       "                        <th id=\"T_88c2790a_22b8_11ea_8e0c_6c2b59d16eealevel0_row12\" class=\"row_heading level0 row12\" >M</th>\n",
       "                        <td id=\"T_88c2790a_22b8_11ea_8e0c_6c2b59d16eearow12_col0\" class=\"data row12 col0\" >MOA_570,MacDonald_198,MacMillan_386,Macleod_312,Math_518,Medical_C_523,Michael_Smith_083,Music_575</td>\n",
       "            </tr>\n",
       "            <tr>\n",
       "                        <th id=\"T_88c2790a_22b8_11ea_8e0c_6c2b59d16eealevel0_row13\" class=\"row_heading level0 row13\" >N</th>\n",
       "                        <td id=\"T_88c2790a_22b8_11ea_8e0c_6c2b59d16eearow13_col0\" class=\"data row13 col0\" >NSDC_UBC,NSDC_WFC,NSUB_795</td>\n",
       "            </tr>\n",
       "            <tr>\n",
       "                        <th id=\"T_88c2790a_22b8_11ea_8e0c_6c2b59d16eealevel0_row14\" class=\"row_heading level0 row14\" >O</th>\n",
       "                        <td id=\"T_88c2790a_22b8_11ea_8e0c_6c2b59d16eearow14_col0\" class=\"data row14 col0\" >Orchard_557,Osborne_431</td>\n",
       "            </tr>\n",
       "            <tr>\n",
       "                        <th id=\"T_88c2790a_22b8_11ea_8e0c_6c2b59d16eealevel0_row15\" class=\"row_heading level0 row15\" >P</th>\n",
       "                        <td id=\"T_88c2790a_22b8_11ea_8e0c_6c2b59d16eearow15_col0\" class=\"data row15 col0\" >Pharmacy_527_TX-DCA,Pharmacy_527_TX-DCB,Pharmacy_527_TX-PA,Pharmacy_527_TX-PB,Ponderosa_East_903,Ponderosa_North_905,Ponderosa_West_904,Pulp_paper_747</td>\n",
       "            </tr>\n",
       "            <tr>\n",
       "                        <th id=\"T_88c2790a_22b8_11ea_8e0c_6c2b59d16eealevel0_row16\" class=\"row_heading level0 row16\" >R</th>\n",
       "                        <td id=\"T_88c2790a_22b8_11ea_8e0c_6c2b59d16eearow16_col0\" class=\"data row16 col0\" >Ritsumeikan_745</td>\n",
       "            </tr>\n",
       "            <tr>\n",
       "                        <th id=\"T_88c2790a_22b8_11ea_8e0c_6c2b59d16eealevel0_row17\" class=\"row_heading level0 row17\" >S</th>\n",
       "                        <td id=\"T_88c2790a_22b8_11ea_8e0c_6c2b59d16eearow17_col0\" class=\"data row17 col0\" >SPPH_513,SRC_774,SUB_790,Scarfe_232,Sing_Tao_212,Strangway_199</td>\n",
       "            </tr>\n",
       "            <tr>\n",
       "                        <th id=\"T_88c2790a_22b8_11ea_8e0c_6c2b59d16eealevel0_row18\" class=\"row_heading level0 row18\" >T</th>\n",
       "                        <td id=\"T_88c2790a_22b8_11ea_8e0c_6c2b59d16eearow18_col0\" class=\"data row18 col0\" >Tall_Wood_114,Thea_Koerner_408,Totem_Infill_II_541_ELEC</td>\n",
       "            </tr>\n",
       "            <tr>\n",
       "                        <th id=\"T_88c2790a_22b8_11ea_8e0c_6c2b59d16eealevel0_row19\" class=\"row_heading level0 row19\" >U</th>\n",
       "                        <td id=\"T_88c2790a_22b8_11ea_8e0c_6c2b59d16eearow19_col0\" class=\"data row19 col0\" >USB_641,Uni_Ctr_344</td>\n",
       "            </tr>\n",
       "            <tr>\n",
       "                        <th id=\"T_88c2790a_22b8_11ea_8e0c_6c2b59d16eealevel0_row20\" class=\"row_heading level0 row20\" >W</th>\n",
       "                        <td id=\"T_88c2790a_22b8_11ea_8e0c_6c2b59d16eearow20_col0\" class=\"data row20 col0\" >WLIB_536,War_Mem_Gym_428,Wesbrook_864</td>\n",
       "            </tr>\n",
       "    </tbody></table>"
      ],
      "text/plain": [
       "<pandas.io.formats.style.Styler at 0x1ef47de3908>"
      ]
     },
     "execution_count": 2,
     "metadata": {},
     "output_type": "execute_result"
    }
   ],
   "source": [
    "client = DataFrameClient(host='206.12.92.81',port=8086, \n",
    "                         username='public', password='public',\n",
    "                         database='ION')\n",
    "# print the names of existing measurements in InfluxDB\n",
    "meas = []\n",
    "for d in client.get_list_measurements():\n",
    "    meas.append(d['name']) #d is a dictionary; 'name' is the key; measurement name is the value\n",
    "print(\"Measurements in InfluxDB (separated by commas):\")\n",
    "print(\"Note that a building might have multiple data streams (multiple measurements in InfluxDB)\")\n",
    "measdf = pd.DataFrame(meas,columns=['measurement'])\n",
    "measdf['letter']=measdf['measurement'].str.get(0)\n",
    "measdf=measdf.groupby('letter',as_index=True).agg(','.join)\n",
    "pd.options.display.max_colwidth = 100\n",
    "measdf = measdf.style.set_properties(**{'text-align': 'left'})\n",
    "measdf"
   ]
  },
  {
   "cell_type": "code",
   "execution_count": 3,
   "metadata": {},
   "outputs": [
    {
     "name": "stdout",
     "output_type": "stream",
     "text": [
      "Measurement:\n",
      "USB_641\n",
      "\n",
      "Dataframe:\n"
     ]
    },
    {
     "data": {
      "text/html": [
       "<div>\n",
       "<style scoped>\n",
       "    .dataframe tbody tr th:only-of-type {\n",
       "        vertical-align: middle;\n",
       "    }\n",
       "\n",
       "    .dataframe tbody tr th {\n",
       "        vertical-align: top;\n",
       "    }\n",
       "\n",
       "    .dataframe thead th {\n",
       "        text-align: right;\n",
       "    }\n",
       "</style>\n",
       "<table border=\"1\" class=\"dataframe\">\n",
       "  <thead>\n",
       "    <tr style=\"text-align: right;\">\n",
       "      <th></th>\n",
       "      <th>elec_energy</th>\n",
       "      <th>elec_power</th>\n",
       "      <th>water_volume</th>\n",
       "    </tr>\n",
       "  </thead>\n",
       "  <tbody>\n",
       "    <tr>\n",
       "      <td>2019-12-18 18:19:58.538634300+00:00</td>\n",
       "      <td>3157058.00</td>\n",
       "      <td>401.226044</td>\n",
       "      <td>37976.898438</td>\n",
       "    </tr>\n",
       "    <tr>\n",
       "      <td>2019-12-18 18:20:11.464831900+00:00</td>\n",
       "      <td>3157059.00</td>\n",
       "      <td>403.023987</td>\n",
       "      <td>37977.000000</td>\n",
       "    </tr>\n",
       "    <tr>\n",
       "      <td>...</td>\n",
       "      <td>...</td>\n",
       "      <td>...</td>\n",
       "      <td>...</td>\n",
       "    </tr>\n",
       "    <tr>\n",
       "      <td>2019-12-19 23:37:16.041552800+00:00</td>\n",
       "      <td>3165948.75</td>\n",
       "      <td>347.783722</td>\n",
       "      <td>37998.699219</td>\n",
       "    </tr>\n",
       "    <tr>\n",
       "      <td>2019-12-19 23:37:21.021846800+00:00</td>\n",
       "      <td>3165949.25</td>\n",
       "      <td>343.635834</td>\n",
       "      <td>37998.699219</td>\n",
       "    </tr>\n",
       "  </tbody>\n",
       "</table>\n",
       "<p>6443 rows × 3 columns</p>\n",
       "</div>"
      ],
      "text/plain": [
       "                                     elec_energy  elec_power  water_volume\n",
       "2019-12-18 18:19:58.538634300+00:00   3157058.00  401.226044  37976.898438\n",
       "2019-12-18 18:20:11.464831900+00:00   3157059.00  403.023987  37977.000000\n",
       "...                                          ...         ...           ...\n",
       "2019-12-19 23:37:16.041552800+00:00   3165948.75  347.783722  37998.699219\n",
       "2019-12-19 23:37:21.021846800+00:00   3165949.25  343.635834  37998.699219\n",
       "\n",
       "[6443 rows x 3 columns]"
      ]
     },
     "execution_count": 3,
     "metadata": {},
     "output_type": "execute_result"
    }
   ],
   "source": [
    "#Query one of the measurements above and store the result as a pandas DataFrame\n",
    "result = client.query('select * from USB_641')  #a collections.defaultdict object\n",
    "print('Measurement:')\n",
    "for k in result.keys():\n",
    "    print(k)\n",
    "    df=result[k]\n",
    "print('\\nDataframe:')\n",
    "pd.options.display.max_rows = 5\n",
    "df"
   ]
  },
  {
   "cell_type": "code",
   "execution_count": 4,
   "metadata": {},
   "outputs": [
    {
     "name": "stdout",
     "output_type": "stream",
     "text": [
      "Time zone in InfluxDB: UTC\n",
      "Converted to: Canada/Pacific in dataframe\n",
      "Dataframe memory usage in bytes: 206,176\n"
     ]
    },
    {
     "data": {
      "text/html": [
       "<div>\n",
       "<style scoped>\n",
       "    .dataframe tbody tr th:only-of-type {\n",
       "        vertical-align: middle;\n",
       "    }\n",
       "\n",
       "    .dataframe tbody tr th {\n",
       "        vertical-align: top;\n",
       "    }\n",
       "\n",
       "    .dataframe thead th {\n",
       "        text-align: right;\n",
       "    }\n",
       "</style>\n",
       "<table border=\"1\" class=\"dataframe\">\n",
       "  <thead>\n",
       "    <tr style=\"text-align: right;\">\n",
       "      <th></th>\n",
       "      <th>elec_energy</th>\n",
       "      <th>elec_power</th>\n",
       "      <th>water_volume</th>\n",
       "    </tr>\n",
       "  </thead>\n",
       "  <tbody>\n",
       "    <tr>\n",
       "      <td>2019-12-18 10:19:58.538634300-08:00</td>\n",
       "      <td>3157058.00</td>\n",
       "      <td>401.226044</td>\n",
       "      <td>37976.898438</td>\n",
       "    </tr>\n",
       "    <tr>\n",
       "      <td>2019-12-18 10:20:11.464831900-08:00</td>\n",
       "      <td>3157059.00</td>\n",
       "      <td>403.023987</td>\n",
       "      <td>37977.000000</td>\n",
       "    </tr>\n",
       "    <tr>\n",
       "      <td>...</td>\n",
       "      <td>...</td>\n",
       "      <td>...</td>\n",
       "      <td>...</td>\n",
       "    </tr>\n",
       "    <tr>\n",
       "      <td>2019-12-19 15:37:16.041552800-08:00</td>\n",
       "      <td>3165948.75</td>\n",
       "      <td>347.783722</td>\n",
       "      <td>37998.699219</td>\n",
       "    </tr>\n",
       "    <tr>\n",
       "      <td>2019-12-19 15:37:21.021846800-08:00</td>\n",
       "      <td>3165949.25</td>\n",
       "      <td>343.635834</td>\n",
       "      <td>37998.699219</td>\n",
       "    </tr>\n",
       "  </tbody>\n",
       "</table>\n",
       "<p>6443 rows × 3 columns</p>\n",
       "</div>"
      ],
      "text/plain": [
       "                                     elec_energy  elec_power  water_volume\n",
       "2019-12-18 10:19:58.538634300-08:00   3157058.00  401.226044  37976.898438\n",
       "2019-12-18 10:20:11.464831900-08:00   3157059.00  403.023987  37977.000000\n",
       "...                                          ...         ...           ...\n",
       "2019-12-19 15:37:16.041552800-08:00   3165948.75  347.783722  37998.699219\n",
       "2019-12-19 15:37:21.021846800-08:00   3165949.25  343.635834  37998.699219\n",
       "\n",
       "[6443 rows x 3 columns]"
      ]
     },
     "execution_count": 4,
     "metadata": {},
     "output_type": "execute_result"
    }
   ],
   "source": [
    "print(\"Time zone in InfluxDB:\",df.index.tz)\n",
    "#print(pytz.all_timezones) #to view all available timezones\n",
    "my_timezone = pytz.timezone('Canada/Pacific')\n",
    "df.index=df.index.tz_convert(my_timezone)\n",
    "print(\"Converted to:\",my_timezone,\"in dataframe\")\n",
    "#df.memory_usage().values.sum()\n",
    "print(\"Dataframe memory usage in bytes:\",f\"{df.memory_usage().values.sum():,d}\")\n",
    "pd.options.display.max_rows = 5\n",
    "df"
   ]
  },
  {
   "cell_type": "code",
   "execution_count": 5,
   "metadata": {},
   "outputs": [
    {
     "data": {
      "text/plain": [
       "<Figure size 432x288 with 0 Axes>"
      ]
     },
     "metadata": {},
     "output_type": "display_data"
    },
    {
     "data": {
      "image/png": "[encoded data removed]",
      "text/plain": [
       "<Figure size 432x288 with 1 Axes>"
      ]
     },
     "metadata": {
      "needs_background": "light"
     },
     "output_type": "display_data"
    },
    {
     "data": {
      "text/plain": [
       "<Figure size 432x288 with 0 Axes>"
      ]
     },
     "metadata": {},
     "output_type": "display_data"
    },
    {
     "data": {
      "image/png": "[encoded data removed]",
      "text/plain": [
       "<Figure size 432x288 with 1 Axes>"
      ]
     },
     "metadata": {
      "needs_background": "light"
     },
     "output_type": "display_data"
    },
    {
     "data": {
      "text/plain": [
       "<Figure size 432x288 with 0 Axes>"
      ]
     },
     "metadata": {},
     "output_type": "display_data"
    },
    {
     "data": {
      "image/png": "[encoded data removed]",
      "text/plain": [
       "<Figure size 432x288 with 1 Axes>"
      ]
     },
     "metadata": {
      "needs_background": "light"
     },
     "output_type": "display_data"
    }
   ],
   "source": [
    "for col in list(df):  #a list of column names\n",
    "    plt.figure()\n",
    "    df.plot(y=[col], use_index=True, legend=None, title=col)\n",
    "plt.show()"
   ]
  }
 ],
 "metadata": {
  "kernelspec": {
   "display_name": "Python 3",
   "language": "python",
   "name": "python3"
  },
  "language_info": {
   "codemirror_mode": {
    "name": "ipython",
    "version": 3
   },
   "file_extension": ".py",
   "mimetype": "text/x-python",
   "name": "python",
   "nbconvert_exporter": "python",
   "pygments_lexer": "ipython3",
   "version": "3.7.4"
  }
 },
 "nbformat": 4,
 "nbformat_minor": 2
}
